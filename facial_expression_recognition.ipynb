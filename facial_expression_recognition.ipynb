{
  "nbformat": 4,
  "nbformat_minor": 0,
  "metadata": {
    "colab": {
      "provenance": [],
      "gpuType": "T4"
    },
    "kernelspec": {
      "name": "python3",
      "display_name": "Python 3"
    },
    "accelerator": "GPU"
  },
  "cells": [
    {
      "cell_type": "code",
      "metadata": {
        "id": "FYfZhVK0fZ2V",
        "outputId": "30a0bb1b-9cd4-44d8-e4e8-e160cfbe07b0",
        "colab": {
          "base_uri": "https://localhost:8080/"
        }
      },
      "source": [
        "!git clone https://github.com/muxspace/facial_expressions.git"
      ],
      "execution_count": 1,
      "outputs": [
        {
          "output_type": "stream",
          "name": "stdout",
          "text": [
            "Cloning into 'facial_expressions'...\n",
            "remote: Enumerating objects: 14214, done.\u001b[K\n",
            "remote: Total 14214 (delta 0), reused 0 (delta 0), pack-reused 14214\u001b[K\n",
            "Receiving objects: 100% (14214/14214), 239.65 MiB | 43.16 MiB/s, done.\n",
            "Resolving deltas: 100% (223/223), done.\n",
            "Updating files: 100% (13996/13996), done.\n"
          ]
        }
      ]
    },
    {
      "cell_type": "code",
      "metadata": {
        "id": "s9g3ri-UfmET"
      },
      "source": [
        "# creating dictonary with keys as expression and value as list of expression\n",
        "import csv\n",
        "data = {}\n",
        "with open('/content/facial_expressions/data/legend.csv') as f:\n",
        "  reader = csv.reader(f) # reader object reads data row by row\n",
        "  next(reader) # to skip column headers\n",
        "  for row in reader:\n",
        "    key = row[2].lower()\n",
        "    # add value (image) to corresponding key\n",
        "    if key in data:\n",
        "      data[key].append(row[1])\n",
        "    # make key value pair if not present\n",
        "    else:\n",
        "      data[key] = [row[1]]"
      ],
      "execution_count": 2,
      "outputs": []
    },
    {
      "cell_type": "code",
      "metadata": {
        "id": "VVzU_a67jrGX",
        "outputId": "31955a28-41ec-4a44-e709-c0aed2dcd44a",
        "colab": {
          "base_uri": "https://localhost:8080/"
        }
      },
      "source": [
        "emotion_list = list(data.keys())\n",
        "emotion_list"
      ],
      "execution_count": 3,
      "outputs": [
        {
          "output_type": "execute_result",
          "data": {
            "text/plain": [
              "['anger',\n",
              " 'surprise',\n",
              " 'disgust',\n",
              " 'fear',\n",
              " 'neutral',\n",
              " 'happiness',\n",
              " 'sadness',\n",
              " 'contempt']"
            ]
          },
          "metadata": {},
          "execution_count": 3
        }
      ]
    },
    {
      "cell_type": "code",
      "metadata": {
        "id": "vHbst716k2KO"
      },
      "source": [
        "# creating training and testing directory\n",
        "import os\n",
        "\n",
        "os.mkdir('master_data')\n",
        "os.mkdir('master_data/training')\n",
        "os.mkdir('master_data/testing')"
      ],
      "execution_count": 4,
      "outputs": []
    },
    {
      "cell_type": "code",
      "metadata": {
        "id": "yVQ7jkssk9cd"
      },
      "source": [
        "# creating directories for each emotion in training and testing\n",
        "for emotion in emotion_list:\n",
        "  os.mkdir(os.path.join('master_data/training/', emotion))\n",
        "  os.mkdir(os.path.join('master_data/testing/', emotion))"
      ],
      "execution_count": 5,
      "outputs": []
    },
    {
      "cell_type": "code",
      "metadata": {
        "id": "5NAIPMkLlIj1"
      },
      "source": [
        "# copying images to created directories\n",
        "from shutil import copyfile\n",
        "split_size = 0.8\n",
        "\n",
        "for emotion, images in data.items():\n",
        "  # splitting images into train and test\n",
        "  train_size = int(split_size*len(images))\n",
        "  train_images = images[:train_size]\n",
        "  test_images = images[train_size:]\n",
        "  for image in train_images:\n",
        "    source = os.path.join('/content/facial_expressions/images', image)\n",
        "    dest = os.path.join('/content/master_data/training', emotion, image)\n",
        "    copyfile(source, dest)\n",
        "  for image in test_images:\n",
        "    source = os.path.join('/content/facial_expressions/images', image)\n",
        "    dest = os.path.join('/content/master_data/testing', emotion, image)\n",
        "    copyfile(source, dest)"
      ],
      "execution_count": 6,
      "outputs": []
    },
    {
      "cell_type": "code",
      "metadata": {
        "id": "9nUCakLgmSNp"
      },
      "source": [
        "import tensorflow as tf\n",
        "from tensorflow.keras.preprocessing.image import ImageDataGenerator\n",
        "from tensorflow.keras.optimizers import Adam\n",
        "from tensorflow.keras.callbacks import EarlyStopping\n",
        "from tensorflow.keras.layers import Conv2D, MaxPooling2D, Dense, Flatten"
      ],
      "execution_count": 7,
      "outputs": []
    },
    {
      "cell_type": "code",
      "metadata": {
        "id": "dSYxzkfjnduI",
        "outputId": "be3a329f-25af-4025-e747-c104ddfb146e",
        "colab": {
          "base_uri": "https://localhost:8080/"
        }
      },
      "source": [
        "# model\n",
        "model = tf.keras.models.Sequential([\n",
        "      Conv2D(16, (3,3), activation='relu', input_shape = (100, 100, 3)),\n",
        "      MaxPooling2D(2, 2),\n",
        "      Conv2D(32, (3,3), activation='relu'),\n",
        "      MaxPooling2D(2, 2),\n",
        "      Conv2D(64, (3,3), activation='relu'),\n",
        "      MaxPooling2D(2, 2),\n",
        "      Flatten(),\n",
        "      Dense(1024, activation='relu'),\n",
        "      Dense(8, activation='softmax')\n",
        "])\n",
        "model.compile(optimizer = Adam(learning_rate = 0.01), loss = 'categorical_crossentropy', metrics = ['acc'])\n",
        "model.summary()"
      ],
      "execution_count": 23,
      "outputs": [
        {
          "output_type": "stream",
          "name": "stdout",
          "text": [
            "Model: \"sequential_7\"\n",
            "_________________________________________________________________\n",
            " Layer (type)                Output Shape              Param #   \n",
            "=================================================================\n",
            " conv2d_21 (Conv2D)          (None, 98, 98, 16)        448       \n",
            "                                                                 \n",
            " max_pooling2d_21 (MaxPooli  (None, 49, 49, 16)        0         \n",
            " ng2D)                                                           \n",
            "                                                                 \n",
            " conv2d_22 (Conv2D)          (None, 47, 47, 32)        4640      \n",
            "                                                                 \n",
            " max_pooling2d_22 (MaxPooli  (None, 23, 23, 32)        0         \n",
            " ng2D)                                                           \n",
            "                                                                 \n",
            " conv2d_23 (Conv2D)          (None, 21, 21, 64)        18496     \n",
            "                                                                 \n",
            " max_pooling2d_23 (MaxPooli  (None, 10, 10, 64)        0         \n",
            " ng2D)                                                           \n",
            "                                                                 \n",
            " flatten_7 (Flatten)         (None, 6400)              0         \n",
            "                                                                 \n",
            " dense_14 (Dense)            (None, 1024)              6554624   \n",
            "                                                                 \n",
            " dense_15 (Dense)            (None, 8)                 8200      \n",
            "                                                                 \n",
            "=================================================================\n",
            "Total params: 6586408 (25.13 MB)\n",
            "Trainable params: 6586408 (25.13 MB)\n",
            "Non-trainable params: 0 (0.00 Byte)\n",
            "_________________________________________________________________\n"
          ]
        }
      ]
    },
    {
      "cell_type": "code",
      "metadata": {
        "id": "xo-O0elhqXWg",
        "outputId": "520306c0-adc9-4d0a-ec61-ba3815c1d33d",
        "colab": {
          "base_uri": "https://localhost:8080/"
        }
      },
      "source": [
        "# generate array from images, generate lables from directory name and to 1 hot encode them\n",
        "train_dir = '/content/master_data/training'\n",
        "test_dir = '/content/master_data/testing'\n",
        "\n",
        "train_datagen = ImageDataGenerator(rescale = 1.0/255)\n",
        "train_generator = train_datagen.flow_from_directory(\n",
        "                                                    train_dir,\n",
        "                                                    target_size = (100, 100),\n",
        "                                                    class_mode = 'categorical',\n",
        "                                                    batch_size = 64\n",
        "                                                  )\n",
        "\n",
        "test_datagen = ImageDataGenerator(rescale = 1.0/255)\n",
        "test_generator = test_datagen.flow_from_directory(\n",
        "                                                    test_dir,\n",
        "                                                    target_size = (100, 100),\n",
        "                                                    class_mode = 'categorical',\n",
        "                                                    batch_size = 64\n",
        "                                                  )"
      ],
      "execution_count": 22,
      "outputs": [
        {
          "output_type": "stream",
          "name": "stdout",
          "text": [
            "Found 10941 images belonging to 8 classes.\n",
            "Found 2742 images belonging to 8 classes.\n"
          ]
        }
      ]
    },
    {
      "cell_type": "code",
      "metadata": {
        "id": "YCI0xQtlsbYc"
      },
      "source": [
        "# early stopping model if acc is not improving in next 2 epochs\n",
        "es = EarlyStopping(monitor='val_acc', patience = 2, min_delta=0.01)"
      ],
      "execution_count": 17,
      "outputs": []
    },
    {
      "cell_type": "code",
      "metadata": {
        "id": "jMBsgMIqs_GP",
        "outputId": "dbad4b04-108d-4bf6-eab0-cfde170e74a1",
        "colab": {
          "base_uri": "https://localhost:8080/"
        }
      },
      "source": [
        "model.fit(train_generator,\n",
        "          epochs = 10,\n",
        "          verbose = 1,\n",
        "          validation_data = test_generator,\n",
        "          callbacks = [es])"
      ],
      "execution_count": 24,
      "outputs": [
        {
          "output_type": "stream",
          "name": "stdout",
          "text": [
            "Epoch 1/10\n",
            "171/171 [==============================] - 19s 101ms/step - loss: 1.2066 - acc: 0.4947 - val_loss: 1.0655 - val_acc: 0.5040\n",
            "Epoch 2/10\n",
            "171/171 [==============================] - 16s 93ms/step - loss: 0.8998 - acc: 0.6552 - val_loss: 1.0457 - val_acc: 0.5999\n",
            "Epoch 3/10\n",
            "171/171 [==============================] - 16s 95ms/step - loss: 0.7960 - acc: 0.7171 - val_loss: 0.9256 - val_acc: 0.6608\n",
            "Epoch 4/10\n",
            "171/171 [==============================] - 16s 94ms/step - loss: 0.7629 - acc: 0.7311 - val_loss: 0.9256 - val_acc: 0.6754\n",
            "Epoch 5/10\n",
            "171/171 [==============================] - 18s 107ms/step - loss: 0.7166 - acc: 0.7544 - val_loss: 1.0795 - val_acc: 0.6255\n",
            "Epoch 6/10\n",
            "171/171 [==============================] - 16s 94ms/step - loss: 0.7134 - acc: 0.7551 - val_loss: 0.9970 - val_acc: 0.6652\n"
          ]
        },
        {
          "output_type": "execute_result",
          "data": {
            "text/plain": [
              "<keras.src.callbacks.History at 0x7a365df1f610>"
            ]
          },
          "metadata": {},
          "execution_count": 24
        }
      ]
    }
  ]
}